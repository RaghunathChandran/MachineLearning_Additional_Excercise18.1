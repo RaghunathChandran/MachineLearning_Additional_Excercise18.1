{
 "cells": [
  {
   "cell_type": "markdown",
   "metadata": {},
   "source": [
    "# Session 18 : Addtional Exercise - Raghunath"
   ]
  },
  {
   "cell_type": "markdown",
   "metadata": {},
   "source": [
    "### Problem Statement\n",
    "    Given the following data set, use the sklearn package to find the co-efficients of the\n",
    "    line that describes the following relationships:\n",
    "        1) x1 and y\n",
    "        2) x2 and y\n",
    "        3) x3 and y\n",
    "    Also, plot the line and the data using matplotlib and report the co-efficient of\n",
    "    determination for the lines using the metrics library.\n",
    "<img src=\"dataset.png\" size=\"500px\"/>"
   ]
  },
  {
   "cell_type": "code",
   "execution_count": 1,
   "metadata": {},
   "outputs": [],
   "source": [
    "import numpy as np\n",
    "import pandas as pd\n",
    "import matplotlib.pyplot as plt"
   ]
  },
  {
   "cell_type": "code",
   "execution_count": 2,
   "metadata": {},
   "outputs": [
    {
     "name": "stdout",
     "output_type": "stream",
     "text": [
      "15\n",
      "15\n",
      "15\n",
      "15\n"
     ]
    }
   ],
   "source": [
    "x1 = [230.1, 44.5, 17.2, 151.5, 180.8, 8.7, 57.5, 120.2, 8.6, 199.8, 66.1, 214.7, 23.8, 97.5, 204.1]\n",
    "x2 = [37.8, 39.3, 45.9, 41.3, 10.8,48.9, 32.8, 19.6, 2.1, 2.6, 5.8, 24, 35.1, 7.6, 32.9]\n",
    "x3 = [69.2, 45.1, 69.3, 58.5, 58.4, 75, 23.5, 11.6, 1, 21.2, 24.2, 4, 65.9, 7.2, 46]\n",
    "target = [22.1, 10.4, 9.3, 18.5, 12.9, 7.2, 11.8, 13.2, 4.8, 10.6, 8.6, 17.4, 9.2, 9.7, 19]\n",
    "print(len(x1))\n",
    "print(len(x2))\n",
    "print(len(x3))\n",
    "print(len(target))"
   ]
  },
  {
   "cell_type": "code",
   "execution_count": 3,
   "metadata": {},
   "outputs": [],
   "source": [
    "correlation = pd.DataFrame(columns=['x1','x2', 'x3', 'target'])"
   ]
  },
  {
   "cell_type": "code",
   "execution_count": 4,
   "metadata": {},
   "outputs": [],
   "source": [
    "correlation[\"x1\"]=x1\n",
    "correlation[\"x2\"]=x2\n",
    "correlation[\"x3\"]= x3\n",
    "correlation[\"target\"] = target"
   ]
  },
  {
   "cell_type": "code",
   "execution_count": 5,
   "metadata": {},
   "outputs": [
    {
     "data": {
      "text/html": [
       "<div>\n",
       "<style scoped>\n",
       "    .dataframe tbody tr th:only-of-type {\n",
       "        vertical-align: middle;\n",
       "    }\n",
       "\n",
       "    .dataframe tbody tr th {\n",
       "        vertical-align: top;\n",
       "    }\n",
       "\n",
       "    .dataframe thead th {\n",
       "        text-align: right;\n",
       "    }\n",
       "</style>\n",
       "<table border=\"1\" class=\"dataframe\">\n",
       "  <thead>\n",
       "    <tr style=\"text-align: right;\">\n",
       "      <th></th>\n",
       "      <th>x1</th>\n",
       "      <th>x2</th>\n",
       "      <th>x3</th>\n",
       "      <th>target</th>\n",
       "    </tr>\n",
       "  </thead>\n",
       "  <tbody>\n",
       "    <tr>\n",
       "      <th>0</th>\n",
       "      <td>230.1</td>\n",
       "      <td>37.8</td>\n",
       "      <td>69.2</td>\n",
       "      <td>22.1</td>\n",
       "    </tr>\n",
       "    <tr>\n",
       "      <th>1</th>\n",
       "      <td>44.5</td>\n",
       "      <td>39.3</td>\n",
       "      <td>45.1</td>\n",
       "      <td>10.4</td>\n",
       "    </tr>\n",
       "    <tr>\n",
       "      <th>2</th>\n",
       "      <td>17.2</td>\n",
       "      <td>45.9</td>\n",
       "      <td>69.3</td>\n",
       "      <td>9.3</td>\n",
       "    </tr>\n",
       "    <tr>\n",
       "      <th>3</th>\n",
       "      <td>151.5</td>\n",
       "      <td>41.3</td>\n",
       "      <td>58.5</td>\n",
       "      <td>18.5</td>\n",
       "    </tr>\n",
       "    <tr>\n",
       "      <th>4</th>\n",
       "      <td>180.8</td>\n",
       "      <td>10.8</td>\n",
       "      <td>58.4</td>\n",
       "      <td>12.9</td>\n",
       "    </tr>\n",
       "    <tr>\n",
       "      <th>5</th>\n",
       "      <td>8.7</td>\n",
       "      <td>48.9</td>\n",
       "      <td>75.0</td>\n",
       "      <td>7.2</td>\n",
       "    </tr>\n",
       "    <tr>\n",
       "      <th>6</th>\n",
       "      <td>57.5</td>\n",
       "      <td>32.8</td>\n",
       "      <td>23.5</td>\n",
       "      <td>11.8</td>\n",
       "    </tr>\n",
       "    <tr>\n",
       "      <th>7</th>\n",
       "      <td>120.2</td>\n",
       "      <td>19.6</td>\n",
       "      <td>11.6</td>\n",
       "      <td>13.2</td>\n",
       "    </tr>\n",
       "    <tr>\n",
       "      <th>8</th>\n",
       "      <td>8.6</td>\n",
       "      <td>2.1</td>\n",
       "      <td>1.0</td>\n",
       "      <td>4.8</td>\n",
       "    </tr>\n",
       "    <tr>\n",
       "      <th>9</th>\n",
       "      <td>199.8</td>\n",
       "      <td>2.6</td>\n",
       "      <td>21.2</td>\n",
       "      <td>10.6</td>\n",
       "    </tr>\n",
       "    <tr>\n",
       "      <th>10</th>\n",
       "      <td>66.1</td>\n",
       "      <td>5.8</td>\n",
       "      <td>24.2</td>\n",
       "      <td>8.6</td>\n",
       "    </tr>\n",
       "    <tr>\n",
       "      <th>11</th>\n",
       "      <td>214.7</td>\n",
       "      <td>24.0</td>\n",
       "      <td>4.0</td>\n",
       "      <td>17.4</td>\n",
       "    </tr>\n",
       "    <tr>\n",
       "      <th>12</th>\n",
       "      <td>23.8</td>\n",
       "      <td>35.1</td>\n",
       "      <td>65.9</td>\n",
       "      <td>9.2</td>\n",
       "    </tr>\n",
       "    <tr>\n",
       "      <th>13</th>\n",
       "      <td>97.5</td>\n",
       "      <td>7.6</td>\n",
       "      <td>7.2</td>\n",
       "      <td>9.7</td>\n",
       "    </tr>\n",
       "    <tr>\n",
       "      <th>14</th>\n",
       "      <td>204.1</td>\n",
       "      <td>32.9</td>\n",
       "      <td>46.0</td>\n",
       "      <td>19.0</td>\n",
       "    </tr>\n",
       "  </tbody>\n",
       "</table>\n",
       "</div>"
      ],
      "text/plain": [
       "       x1    x2    x3  target\n",
       "0   230.1  37.8  69.2    22.1\n",
       "1    44.5  39.3  45.1    10.4\n",
       "2    17.2  45.9  69.3     9.3\n",
       "3   151.5  41.3  58.5    18.5\n",
       "4   180.8  10.8  58.4    12.9\n",
       "5     8.7  48.9  75.0     7.2\n",
       "6    57.5  32.8  23.5    11.8\n",
       "7   120.2  19.6  11.6    13.2\n",
       "8     8.6   2.1   1.0     4.8\n",
       "9   199.8   2.6  21.2    10.6\n",
       "10   66.1   5.8  24.2     8.6\n",
       "11  214.7  24.0   4.0    17.4\n",
       "12   23.8  35.1  65.9     9.2\n",
       "13   97.5   7.6   7.2     9.7\n",
       "14  204.1  32.9  46.0    19.0"
      ]
     },
     "execution_count": 5,
     "metadata": {},
     "output_type": "execute_result"
    }
   ],
   "source": [
    "correlation"
   ]
  },
  {
   "cell_type": "code",
   "execution_count": 6,
   "metadata": {},
   "outputs": [
    {
     "data": {
      "image/png": "[encoded data removed]",
      "text/plain": [
       "<Figure size 864x2160 with 3 Axes>"
      ]
     },
     "metadata": {
      "needs_background": "light"
     },
     "output_type": "display_data"
    }
   ],
   "source": [
    "fig, axes = plt.subplots(3, figsize=(12,30))\n",
    "\n",
    "axes[0].bar(x1, target)\n",
    "axes[1].bar(x2, target)\n",
    "axes[2].bar(x3, target)\n",
    "plt.show()"
   ]
  },
  {
   "cell_type": "code",
   "execution_count": 7,
   "metadata": {},
   "outputs": [
    {
     "data": {
      "text/html": [
       "<style  type=\"text/css\" >\n",
       "    #T_13d0f74c_73c3_11e9_b08f_ccaf785427c1row0_col0 {\n",
       "            background-color:  #b40426;\n",
       "        }    #T_13d0f74c_73c3_11e9_b08f_ccaf785427c1row0_col1 {\n",
       "            background-color:  #3b4cc0;\n",
       "        }    #T_13d0f74c_73c3_11e9_b08f_ccaf785427c1row0_col2 {\n",
       "            background-color:  #3b4cc0;\n",
       "        }    #T_13d0f74c_73c3_11e9_b08f_ccaf785427c1row0_col3 {\n",
       "            background-color:  #f08a6c;\n",
       "        }    #T_13d0f74c_73c3_11e9_b08f_ccaf785427c1row1_col0 {\n",
       "            background-color:  #3b4cc0;\n",
       "        }    #T_13d0f74c_73c3_11e9_b08f_ccaf785427c1row1_col1 {\n",
       "            background-color:  #b40426;\n",
       "        }    #T_13d0f74c_73c3_11e9_b08f_ccaf785427c1row1_col2 {\n",
       "            background-color:  #f39778;\n",
       "        }    #T_13d0f74c_73c3_11e9_b08f_ccaf785427c1row1_col3 {\n",
       "            background-color:  #6282ea;\n",
       "        }    #T_13d0f74c_73c3_11e9_b08f_ccaf785427c1row2_col0 {\n",
       "            background-color:  #536edd;\n",
       "        }    #T_13d0f74c_73c3_11e9_b08f_ccaf785427c1row2_col1 {\n",
       "            background-color:  #f18f71;\n",
       "        }    #T_13d0f74c_73c3_11e9_b08f_ccaf785427c1row2_col2 {\n",
       "            background-color:  #b40426;\n",
       "        }    #T_13d0f74c_73c3_11e9_b08f_ccaf785427c1row2_col3 {\n",
       "            background-color:  #3b4cc0;\n",
       "        }    #T_13d0f74c_73c3_11e9_b08f_ccaf785427c1row3_col0 {\n",
       "            background-color:  #e36b54;\n",
       "        }    #T_13d0f74c_73c3_11e9_b08f_ccaf785427c1row3_col1 {\n",
       "            background-color:  #c3d5f4;\n",
       "        }    #T_13d0f74c_73c3_11e9_b08f_ccaf785427c1row3_col2 {\n",
       "            background-color:  #90b2fe;\n",
       "        }    #T_13d0f74c_73c3_11e9_b08f_ccaf785427c1row3_col3 {\n",
       "            background-color:  #b40426;\n",
       "        }</style>  \n",
       "<table id=\"T_13d0f74c_73c3_11e9_b08f_ccaf785427c1\" > \n",
       "<thead>    <tr> \n",
       "        <th class=\"blank level0\" ></th> \n",
       "        <th class=\"col_heading level0 col0\" >x1</th> \n",
       "        <th class=\"col_heading level0 col1\" >x2</th> \n",
       "        <th class=\"col_heading level0 col2\" >x3</th> \n",
       "        <th class=\"col_heading level0 col3\" >target</th> \n",
       "    </tr></thead> \n",
       "<tbody>    <tr> \n",
       "        <th id=\"T_13d0f74c_73c3_11e9_b08f_ccaf785427c1level0_row0\" class=\"row_heading level0 row0\" >x1</th> \n",
       "        <td id=\"T_13d0f74c_73c3_11e9_b08f_ccaf785427c1row0_col0\" class=\"data row0 col0\" >1</td> \n",
       "        <td id=\"T_13d0f74c_73c3_11e9_b08f_ccaf785427c1row0_col1\" class=\"data row0 col1\" >-0.179161</td> \n",
       "        <td id=\"T_13d0f74c_73c3_11e9_b08f_ccaf785427c1row0_col2\" class=\"data row0 col2\" >-0.0830697</td> \n",
       "        <td id=\"T_13d0f74c_73c3_11e9_b08f_ccaf785427c1row0_col3\" class=\"data row0 col3\" >0.828446</td> \n",
       "    </tr>    <tr> \n",
       "        <th id=\"T_13d0f74c_73c3_11e9_b08f_ccaf785427c1level0_row1\" class=\"row_heading level0 row1\" >x2</th> \n",
       "        <td id=\"T_13d0f74c_73c3_11e9_b08f_ccaf785427c1row1_col0\" class=\"data row1 col0\" >-0.179161</td> \n",
       "        <td id=\"T_13d0f74c_73c3_11e9_b08f_ccaf785427c1row1_col1\" class=\"data row1 col1\" >1</td> \n",
       "        <td id=\"T_13d0f74c_73c3_11e9_b08f_ccaf785427c1row1_col2\" class=\"data row1 col2\" >0.736396</td> \n",
       "        <td id=\"T_13d0f74c_73c3_11e9_b08f_ccaf785427c1row1_col3\" class=\"data row1 col3\" >0.301945</td> \n",
       "    </tr>    <tr> \n",
       "        <th id=\"T_13d0f74c_73c3_11e9_b08f_ccaf785427c1level0_row2\" class=\"row_heading level0 row2\" >x3</th> \n",
       "        <td id=\"T_13d0f74c_73c3_11e9_b08f_ccaf785427c1row2_col0\" class=\"data row2 col0\" >-0.0830697</td> \n",
       "        <td id=\"T_13d0f74c_73c3_11e9_b08f_ccaf785427c1row2_col1\" class=\"data row2 col1\" >0.736396</td> \n",
       "        <td id=\"T_13d0f74c_73c3_11e9_b08f_ccaf785427c1row2_col2\" class=\"data row2 col2\" >1</td> \n",
       "        <td id=\"T_13d0f74c_73c3_11e9_b08f_ccaf785427c1row2_col3\" class=\"data row2 col3\" >0.199612</td> \n",
       "    </tr>    <tr> \n",
       "        <th id=\"T_13d0f74c_73c3_11e9_b08f_ccaf785427c1level0_row3\" class=\"row_heading level0 row3\" >target</th> \n",
       "        <td id=\"T_13d0f74c_73c3_11e9_b08f_ccaf785427c1row3_col0\" class=\"data row3 col0\" >0.828446</td> \n",
       "        <td id=\"T_13d0f74c_73c3_11e9_b08f_ccaf785427c1row3_col1\" class=\"data row3 col1\" >0.301945</td> \n",
       "        <td id=\"T_13d0f74c_73c3_11e9_b08f_ccaf785427c1row3_col2\" class=\"data row3 col2\" >0.199612</td> \n",
       "        <td id=\"T_13d0f74c_73c3_11e9_b08f_ccaf785427c1row3_col3\" class=\"data row3 col3\" >1</td> \n",
       "    </tr></tbody> \n",
       "</table> "
      ],
      "text/plain": [
       "<pandas.io.formats.style.Styler at 0x2001d60aa58>"
      ]
     },
     "execution_count": 7,
     "metadata": {},
     "output_type": "execute_result"
    }
   ],
   "source": [
    "corr = correlation.corr()\n",
    "corr.style.background_gradient(cmap='coolwarm')"
   ]
  },
  {
   "cell_type": "code",
   "execution_count": 8,
   "metadata": {},
   "outputs": [
    {
     "data": {
      "text/plain": [
       "x1        0.828446\n",
       "x2        0.301945\n",
       "x3        0.199612\n",
       "target    1.000000\n",
       "Name: target, dtype: float64"
      ]
     },
     "execution_count": 8,
     "metadata": {},
     "output_type": "execute_result"
    }
   ],
   "source": [
    "corr['target']"
   ]
  },
  {
   "cell_type": "code",
   "execution_count": 9,
   "metadata": {},
   "outputs": [],
   "source": [
    "from sklearn.linear_model import RidgeCV\n",
    "from sklearn.compose import TransformedTargetRegressor\n",
    "from sklearn.metrics import median_absolute_error, r2_score\n",
    "from sklearn.linear_model import LogisticRegression\n",
    "from sklearn.linear_model import LinearRegression\n",
    "from sklearn.model_selection import train_test_split\n",
    "from sklearn import metrics\n",
    "from sklearn.model_selection import cross_val_score"
   ]
  },
  {
   "cell_type": "code",
   "execution_count": 10,
   "metadata": {},
   "outputs": [],
   "source": [
    "X = correlation.drop(\"target\", axis=1)"
   ]
  },
  {
   "cell_type": "code",
   "execution_count": 11,
   "metadata": {},
   "outputs": [],
   "source": [
    "y = correlation[\"target\"]"
   ]
  },
  {
   "cell_type": "code",
   "execution_count": 12,
   "metadata": {},
   "outputs": [],
   "source": [
    "X_train, X_test, y_train, y_test = train_test_split(X, y, random_state=1)"
   ]
  },
  {
   "cell_type": "code",
   "execution_count": 13,
   "metadata": {},
   "outputs": [
    {
     "data": {
      "text/plain": [
       "(0, 20)"
      ]
     },
     "execution_count": 13,
     "metadata": {},
     "output_type": "execute_result"
    },
    {
     "data": {
      "image/png": "[encoded data removed]",
      "text/plain": [
       "<Figure size 432x288 with 2 Axes>"
      ]
     },
     "metadata": {
      "needs_background": "light"
     },
     "output_type": "display_data"
    }
   ],
   "source": [
    "f, (ax0, ax1) = plt.subplots(1, 2, sharey=True)\n",
    "regr = RidgeCV()\n",
    "regr.fit(X_train, y_train)\n",
    "y_pred = regr.predict(X_test)\n",
    "\n",
    "ax0.scatter(y_test, y_pred)\n",
    "ax0.plot([0, 20], [0, 20], '--k')\n",
    "ax0.set_ylabel('Target predicted')\n",
    "ax0.set_xlabel('True Target')\n",
    "ax0.set_title('Ridge regression \\n without target transformation')\n",
    "ax0.text(1, 17, r'$R^2$=%.2f, MAE=%.2f' % (\n",
    "    r2_score(y_test, y_pred), median_absolute_error(y_test, y_pred)))\n",
    "ax0.set_xlim([0, 20])\n",
    "ax0.set_ylim([0, 20])"
   ]
  },
  {
   "cell_type": "code",
   "execution_count": 14,
   "metadata": {},
   "outputs": [
    {
     "data": {
      "text/plain": [
       "(0, 20)"
      ]
     },
     "execution_count": 14,
     "metadata": {},
     "output_type": "execute_result"
    },
    {
     "data": {
      "image/png": "[encoded data removed]",
      "text/plain": [
       "<Figure size 432x288 with 2 Axes>"
      ]
     },
     "metadata": {
      "needs_background": "light"
     },
     "output_type": "display_data"
    }
   ],
   "source": [
    "f, (ax0, ax1) = plt.subplots(1, 2, sharey=True)\n",
    "lin_regr = LinearRegression()\n",
    "lin_regr.fit(X_train, y_train)\n",
    "y_pred = lin_regr.predict(X_test)\n",
    "\n",
    "ax0.scatter(y_test, y_pred)\n",
    "ax0.plot([0, 20], [0, 20], '--k')\n",
    "ax0.set_ylabel('Target predicted')\n",
    "ax0.set_xlabel('True Target')\n",
    "ax0.set_title('Ridge regression \\n without target transformation')\n",
    "ax0.text(1, 17, r'$R^2$=%.2f, MAE=%.2f' % (\n",
    "    r2_score(y_test, y_pred), median_absolute_error(y_test, y_pred)))\n",
    "ax0.set_xlim([0, 20])\n",
    "ax0.set_ylim([0, 20])"
   ]
  },
  {
   "cell_type": "code",
   "execution_count": null,
   "metadata": {},
   "outputs": [],
   "source": []
  }
 ],
 "metadata": {
  "kernelspec": {
   "display_name": "Python 3",
   "language": "python",
   "name": "python3"
  },
  "language_info": {
   "codemirror_mode": {
    "name": "ipython",
    "version": 3
   },
   "file_extension": ".py",
   "mimetype": "text/x-python",
   "name": "python",
   "nbconvert_exporter": "python",
   "pygments_lexer": "ipython3",
   "version": "3.7.1"
  }
 },
 "nbformat": 4,
 "nbformat_minor": 2
}
